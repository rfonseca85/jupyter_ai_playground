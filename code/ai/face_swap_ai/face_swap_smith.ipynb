{
 "cells": [
  {
   "cell_type": "code",
   "execution_count": 3,
   "outputs": [],
   "source": [
    "import insightface\n",
    "from insightface.app import FaceAnalysis\n",
    "from swap_face import swap_n_show"
   ],
   "metadata": {
    "collapsed": false
   }
  },
  {
   "cell_type": "code",
   "execution_count": 4,
   "outputs": [
    {
     "name": "stderr",
     "output_type": "stream",
     "text": [
      "/Users/rafael.fonseca/Library/Python/3.9/lib/python/site-packages/onnxruntime/capi/onnxruntime_inference_collection.py:69: UserWarning: Specified provider 'CUDAExecutionProvider' is not in available provider names.Available providers: 'AzureExecutionProvider, CPUExecutionProvider'\n",
      "  warnings.warn(\n"
     ]
    },
    {
     "name": "stdout",
     "output_type": "stream",
     "text": [
      "Applied providers: ['CPUExecutionProvider'], with options: {'CPUExecutionProvider': {}}\n",
      "find model: /Users/rafael.fonseca/.insightface/models/buffalo_l/1k3d68.onnx landmark_3d_68 ['None', 3, 192, 192] 0.0 1.0\n",
      "Applied providers: ['CPUExecutionProvider'], with options: {'CPUExecutionProvider': {}}\n",
      "find model: /Users/rafael.fonseca/.insightface/models/buffalo_l/2d106det.onnx landmark_2d_106 ['None', 3, 192, 192] 0.0 1.0\n",
      "Applied providers: ['CPUExecutionProvider'], with options: {'CPUExecutionProvider': {}}\n",
      "find model: /Users/rafael.fonseca/.insightface/models/buffalo_l/det_10g.onnx detection [1, 3, '?', '?'] 127.5 128.0\n",
      "Applied providers: ['CPUExecutionProvider'], with options: {'CPUExecutionProvider': {}}\n",
      "find model: /Users/rafael.fonseca/.insightface/models/buffalo_l/genderage.onnx genderage ['None', 3, 96, 96] 0.0 1.0\n",
      "Applied providers: ['CPUExecutionProvider'], with options: {'CPUExecutionProvider': {}}\n",
      "find model: /Users/rafael.fonseca/.insightface/models/buffalo_l/w600k_r50.onnx recognition ['None', 3, 112, 112] 127.5 127.5\n",
      "set det-size: (640, 640)\n",
      "Applied providers: ['CPUExecutionProvider'], with options: {'CPUExecutionProvider': {}}\n",
      "inswapper-shape: [1, 3, 128, 128]\n"
     ]
    },
    {
     "data": {
      "text/plain": "(array([[[133, 117, 105],\n         [133, 117, 105],\n         [133, 117, 105],\n         ...,\n         [137, 123, 111],\n         [135, 123, 113],\n         [132, 122, 115]],\n \n        [[133, 117, 105],\n         [133, 117, 105],\n         [133, 117, 105],\n         ...,\n         [138, 124, 112],\n         [136, 124, 114],\n         [132, 122, 115]],\n \n        [[133, 117, 105],\n         [133, 117, 105],\n         [133, 117, 105],\n         ...,\n         [138, 124, 112],\n         [136, 124, 114],\n         [133, 123, 116]],\n \n        ...,\n \n        [[ 24,   6, 100],\n         [ 26,   8, 102],\n         [ 29,  11, 105],\n         ...,\n         [ 56,  60,  49],\n         [ 52,  56,  45],\n         [ 46,  47,  38]],\n \n        [[ 23,   5,  99],\n         [ 26,   8, 102],\n         [ 29,  10, 107],\n         ...,\n         [ 80,  84,  72],\n         [ 71,  75,  64],\n         [ 54,  55,  46]],\n \n        [[ 24,   6, 100],\n         [ 26,   8, 102],\n         [ 29,  10, 107],\n         ...,\n         [ 85,  89,  77],\n         [ 79,  83,  72],\n         [ 61,  62,  53]]], dtype=uint8),\n array([[[255, 255, 255],\n         [255, 255, 255],\n         [255, 255, 255],\n         ...,\n         [255, 255, 255],\n         [255, 255, 255],\n         [255, 255, 255]],\n \n        [[255, 255, 255],\n         [255, 255, 255],\n         [255, 255, 255],\n         ...,\n         [255, 255, 255],\n         [255, 255, 255],\n         [255, 255, 255]],\n \n        [[255, 255, 255],\n         [255, 255, 255],\n         [255, 255, 255],\n         ...,\n         [255, 255, 255],\n         [255, 255, 255],\n         [255, 255, 255]],\n \n        ...,\n \n        [[255, 255, 255],\n         [255, 255, 255],\n         [255, 255, 255],\n         ...,\n         [255, 255, 255],\n         [255, 255, 255],\n         [255, 255, 255]],\n \n        [[255, 255, 255],\n         [255, 255, 255],\n         [255, 255, 255],\n         ...,\n         [255, 255, 255],\n         [255, 255, 255],\n         [255, 255, 255]],\n \n        [[255, 255, 255],\n         [255, 255, 255],\n         [255, 255, 255],\n         ...,\n         [255, 255, 255],\n         [255, 255, 255],\n         [255, 255, 255]]], dtype=uint8))"
     },
     "execution_count": 2,
     "metadata": {},
     "output_type": "execute_result"
    },
    {
     "name": "stdout",
     "output_type": "stream",
     "text": [
      "Applied providers: ['CPUExecutionProvider'], with options: {'CPUExecutionProvider': {}}\n",
      "find model: /Users/rafael.fonseca/.insightface/models/buffalo_l/1k3d68.onnx landmark_3d_68 ['None', 3, 192, 192] 0.0 1.0\n",
      "Applied providers: ['CPUExecutionProvider'], with options: {'CPUExecutionProvider': {}}\n",
      "find model: /Users/rafael.fonseca/.insightface/models/buffalo_l/2d106det.onnx landmark_2d_106 ['None', 3, 192, 192] 0.0 1.0\n",
      "Applied providers: ['CPUExecutionProvider'], with options: {'CPUExecutionProvider': {}}\n",
      "find model: /Users/rafael.fonseca/.insightface/models/buffalo_l/det_10g.onnx detection [1, 3, '?', '?'] 127.5 128.0\n",
      "Applied providers: ['CPUExecutionProvider'], with options: {'CPUExecutionProvider': {}}\n",
      "find model: /Users/rafael.fonseca/.insightface/models/buffalo_l/genderage.onnx genderage ['None', 3, 96, 96] 0.0 1.0\n",
      "Applied providers: ['CPUExecutionProvider'], with options: {'CPUExecutionProvider': {}}\n",
      "find model: /Users/rafael.fonseca/.insightface/models/buffalo_l/w600k_r50.onnx recognition ['None', 3, 112, 112] 127.5 127.5\n",
      "set det-size: (640, 640)\n",
      "Applied providers: ['CPUExecutionProvider'], with options: {'CPUExecutionProvider': {}}\n",
      "inswapper-shape: [1, 3, 128, 128]\n"
     ]
    },
    {
     "data": {
      "text/plain": "(array([[[133, 117, 105],\n         [133, 117, 105],\n         [133, 117, 105],\n         ...,\n         [137, 123, 111],\n         [135, 123, 113],\n         [132, 122, 115]],\n \n        [[133, 117, 105],\n         [133, 117, 105],\n         [133, 117, 105],\n         ...,\n         [138, 124, 112],\n         [136, 124, 114],\n         [132, 122, 115]],\n \n        [[133, 117, 105],\n         [133, 117, 105],\n         [133, 117, 105],\n         ...,\n         [138, 124, 112],\n         [136, 124, 114],\n         [133, 123, 116]],\n \n        ...,\n \n        [[ 24,   6, 100],\n         [ 26,   8, 102],\n         [ 29,  11, 105],\n         ...,\n         [ 56,  60,  49],\n         [ 52,  56,  45],\n         [ 46,  47,  38]],\n \n        [[ 23,   5,  99],\n         [ 26,   8, 102],\n         [ 29,  10, 107],\n         ...,\n         [ 80,  84,  72],\n         [ 71,  75,  64],\n         [ 54,  55,  46]],\n \n        [[ 24,   6, 100],\n         [ 26,   8, 102],\n         [ 29,  10, 107],\n         ...,\n         [ 85,  89,  77],\n         [ 79,  83,  72],\n         [ 61,  62,  53]]], dtype=uint8),\n array([[[255, 255, 255],\n         [255, 255, 255],\n         [255, 255, 255],\n         ...,\n         [255, 255, 255],\n         [255, 255, 255],\n         [255, 255, 255]],\n \n        [[255, 255, 255],\n         [255, 255, 255],\n         [255, 255, 255],\n         ...,\n         [255, 255, 255],\n         [255, 255, 255],\n         [255, 255, 255]],\n \n        [[255, 255, 255],\n         [255, 255, 255],\n         [255, 255, 255],\n         ...,\n         [255, 255, 255],\n         [255, 255, 255],\n         [255, 255, 255]],\n \n        ...,\n \n        [[255, 255, 255],\n         [255, 255, 255],\n         [255, 255, 255],\n         ...,\n         [255, 255, 255],\n         [255, 255, 255],\n         [255, 255, 255]],\n \n        [[255, 255, 255],\n         [255, 255, 255],\n         [255, 255, 255],\n         ...,\n         [255, 255, 255],\n         [255, 255, 255],\n         [255, 255, 255]],\n \n        [[255, 255, 255],\n         [255, 255, 255],\n         [255, 255, 255],\n         ...,\n         [255, 255, 255],\n         [255, 255, 255],\n         [255, 255, 255]]], dtype=uint8))"
     },
     "execution_count": 4,
     "metadata": {},
     "output_type": "execute_result"
    }
   ],
   "source": [
    "app = FaceAnalysis(name='buffalo_l')\n",
    "app.prepare(ctx_id=0, det_size=(640, 640))\n",
    "swapper = insightface.model_zoo.get_model('model/inswapper_128.onnx', download=False, download_zip=False)\n",
    "\n",
    "\n",
    "swap_n_show('rafa_gabi.jpeg', 1, 'smith.jpg', 0, app, swapper, False, False)"
   ],
   "metadata": {
    "collapsed": false
   }
  }
 ],
 "metadata": {
  "kernelspec": {
   "display_name": "Python 3",
   "language": "python",
   "name": "python3"
  },
  "language_info": {
   "codemirror_mode": {
    "name": "ipython",
    "version": 2
   },
   "file_extension": ".py",
   "mimetype": "text/x-python",
   "name": "python",
   "nbconvert_exporter": "python",
   "pygments_lexer": "ipython2",
   "version": "2.7.6"
  }
 },
 "nbformat": 4,
 "nbformat_minor": 0
}
